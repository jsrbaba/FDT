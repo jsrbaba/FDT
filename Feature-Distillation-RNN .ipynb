{
 "cells": [
  {
   "cell_type": "code",
   "execution_count": null,
   "metadata": {},
   "outputs": [],
   "source": [
    "import numpy as np\n",
    "import tensorflow as tf\n",
    "import pandas as pd\n",
    "import seaborn as sns\n",
    "import matplotlib.pyplot as plt\n",
    "from sklearn.manifold import TSNE\n",
    "import warnings\n",
    "from datetime import datetime\n",
    "from sklearn.model_selection import GridSearchCV\n",
    "from sklearn.metrics import confusion_matrix\n",
    "from sklearn.metrics import accuracy_score\n",
    "from sklearn.linear_model import LogisticRegression\n",
    "from sklearn.svm import LinearSVC\n",
    "from sklearn.svm import SVC\n",
    "from sklearn.tree import DecisionTreeClassifier\n",
    "from sklearn.ensemble import RandomForestClassifier\n",
    "from sklearn.ensemble import GradientBoostingClassifier\n",
    "from tensorflow.keras.models import Sequential\n",
    "from tensorflow.keras.layers import LSTM\n",
    "from tensorflow.keras.layers import Dense, Dropout\n",
    "import os\n",
    "os.environ['CUDA_VISIBLE_DEVICES'] = '1'\n",
    "warnings.simplefilter(\"ignore\")"
   ]
  },
  {
   "cell_type": "code",
   "execution_count": null,
   "metadata": {},
   "outputs": [],
   "source": [
    "# 加载数据集\n",
    "data = pd.read_csv('data33.csv')"
   ]
  },
  {
   "cell_type": "code",
   "execution_count": null,
   "metadata": {
    "scrolled": true
   },
   "outputs": [],
   "source": [
    "data.info()"
   ]
  },
  {
   "cell_type": "code",
   "execution_count": null,
   "metadata": {
    "scrolled": true
   },
   "outputs": [],
   "source": [
    "data.describe()"
   ]
  },
  {
   "cell_type": "code",
   "execution_count": null,
   "metadata": {},
   "outputs": [],
   "source": [
    "data.PATIENT_UPDATE.value_counts()"
   ]
  },
  {
   "cell_type": "code",
   "execution_count": null,
   "metadata": {
    "scrolled": true
   },
   "outputs": [],
   "source": [
    "data=data.astype(int)\n",
    "data=data.loc[:,['PROBABLE_DIAGNOSE','DYSPNEA','DIAGNOSE_OF_PNEUMONIA','POLYPNEA','INTUBATION','CHEST_PAIN',\n",
    "                 'FATIGUE_LOSS_APPETITE','SUDDEN_ONSET_OF_SYMPTOMS','MYALGIA','COUGH','FINAL_RESULT','FEVER','TYPE_OF_PATIENT','ARTHRALGIA',\n",
    "                 'SEX', 'ODYNOPHAGIA','IRRITABILITY','DIARRHEA','CHILLS','CEPHALEA','RHINORRHEA','VOMIT'\n",
    "                 ,'ABDOMINAL_PAIN','CONJUNCTIVITIS','CYANOSIS','DIABETES','EPOC' ,'ASTHMA','IMMUNOSUPPRESSION','HYPERTENSION',\n",
    "               'HIV','CARDIOVASCULAR_DISEASE','OBESITY','CHRONIC_KIDNEY_DISEASE','SMOKER','PATIENT_UPDATE']]\n",
    "data"
   ]
  },
  {
   "cell_type": "code",
   "execution_count": null,
   "metadata": {},
   "outputs": [],
   "source": [
    "from tensorflow.keras.models import Sequential\n",
    "from tensorflow.keras.layers import Dense, Activation, Conv1D, Dropout, MaxPooling1D, Flatten, SimpleRNN, BatchNormalization\n",
    "def teacher_model():\n",
    "    model = Sequential()\n",
    "    model.add(SimpleRNN(512,input_shape=(35,1)))\n",
    "    model.add(Activation(\"relu\"))\n",
    "    model.add(Dropout(0.25))\n",
    "    model.add(BatchNormalization())\n",
    "    model.add((Flatten()))\n",
    "    model.add(Dense(2048, activation=\"relu\"))\n",
    "    model.add(Dense(1024, activation=\"relu\"))\n",
    "    model.add(Dense(512, activation=\"relu\"))\n",
    "    model.add(Dense(256, activation=\"relu\"))\n",
    "    model.add(Dense(128, activation=\"relu\"))\n",
    "    model.add(Dense(64, activation=\"relu\"))\n",
    "    model.add(Dense(32, activation=\"relu\"))\n",
    "    model.add(Dense(16, activation=\"relu\"))\n",
    "    model.add(Dense(2, activation=\"softmax\")) \n",
    "    model.summary()\n",
    "    model.summary()\n",
    "    return model"
   ]
  },
  {
   "cell_type": "code",
   "execution_count": null,
   "metadata": {},
   "outputs": [],
   "source": [
    "def student_model():\n",
    "    model = Sequential()\n",
    "    model.add(SimpleRNN(512,input_shape=(10,1)))\n",
    "    model.add(Activation(\"relu\"))\n",
    "    model.add(Dropout(0.25))\n",
    "    model.add(BatchNormalization())\n",
    "    model.add((Flatten()))\n",
    "    model.add(Dense(1024, activation=\"relu\"))\n",
    "    model.add(Dense(512, activation=\"relu\"))\n",
    "    model.add(Dense(256, activation=\"relu\"))\n",
    "\n",
    "    model.add(Dense(2, activation=\"softmax\")) \n",
    "    model.summary()\n",
    "    model.summary()\n",
    "    return model"
   ]
  },
  {
   "cell_type": "code",
   "execution_count": null,
   "metadata": {
    "scrolled": true
   },
   "outputs": [],
   "source": [
    "teachermodel=teacher_model()"
   ]
  },
  {
   "cell_type": "code",
   "execution_count": null,
   "metadata": {},
   "outputs": [],
   "source": [
    "from sklearn.model_selection import train_test_split\n",
    "X = data.drop([\"PATIENT_UPDATE\"], axis = 1)\n",
    "Y = data[\"PATIENT_UPDATE\"]\n",
    "x_train,x_test,y_train,y_test= train_test_split(X,Y,test_size=0.3)\n",
    "x_train.shape, y_train.shape, x_test.shape, y_test.shape"
   ]
  },
  {
   "cell_type": "code",
   "execution_count": null,
   "metadata": {
    "scrolled": true
   },
   "outputs": [],
   "source": [
    "x_train"
   ]
  },
  {
   "cell_type": "code",
   "execution_count": null,
   "metadata": {
    "scrolled": true
   },
   "outputs": [],
   "source": [
    "x1_train=x_train.iloc[:,:10]\n",
    "x1_test=x_test.iloc[:,:10]\n",
    "x1_train"
   ]
  },
  {
   "cell_type": "code",
   "execution_count": null,
   "metadata": {},
   "outputs": [],
   "source": [
    "from tensorflow.keras.utils import to_categorical\n",
    "y_train = to_categorical(y_train)\n",
    "y_test = to_categorical(y_test)\n",
    "\n",
    "#resize the input data\n",
    "x_train = np.array(x_train).reshape(3989,35,1)\n",
    "x_test = np.array(x_test).reshape(1710,35,1)"
   ]
  },
  {
   "cell_type": "code",
   "execution_count": null,
   "metadata": {},
   "outputs": [],
   "source": [
    "from tensorflow.keras.optimizers import SGD\n",
    "opt = SGD(lr=0.1, decay=0.1, momentum=0.2, nesterov=True)"
   ]
  },
  {
   "cell_type": "code",
   "execution_count": null,
   "metadata": {},
   "outputs": [],
   "source": [
    "teachermodel.compile(loss=\"binary_crossentropy\", optimizer = opt, metrics=[\"accuracy\"])"
   ]
  },
  {
   "cell_type": "code",
   "execution_count": null,
   "metadata": {
    "scrolled": true
   },
   "outputs": [],
   "source": [
    "teachermodel.fit(x_train, y_train,batch_size=100, epochs = 100, validation_data=(x_test,y_test))"
   ]
  },
  {
   "cell_type": "code",
   "execution_count": null,
   "metadata": {},
   "outputs": [],
   "source": [
    "x_train_float32 = tf.cast(x_train, tf.float32)\n",
    "teacherout=teachermodel.predict((x_train_float32))"
   ]
  },
  {
   "cell_type": "code",
   "execution_count": null,
   "metadata": {},
   "outputs": [],
   "source": [
    "teacherout"
   ]
  },
  {
   "cell_type": "code",
   "execution_count": null,
   "metadata": {},
   "outputs": [],
   "source": [
    "y_train"
   ]
  },
  {
   "cell_type": "code",
   "execution_count": null,
   "metadata": {
    "scrolled": true
   },
   "outputs": [],
   "source": [
    "studentmodel=student_model()"
   ]
  },
  {
   "cell_type": "code",
   "execution_count": null,
   "metadata": {},
   "outputs": [],
   "source": [
    "studentmodel.compile(loss=\"binary_crossentropy\", optimizer = opt, metrics=[\"accuracy\"])"
   ]
  },
  {
   "cell_type": "code",
   "execution_count": null,
   "metadata": {},
   "outputs": [],
   "source": [
    "x1_train = np.array(x1_train).reshape(3989,10,1)\n",
    "x1_test = np.array(x1_test).reshape(1710,10,1)"
   ]
  },
  {
   "cell_type": "code",
   "execution_count": null,
   "metadata": {
    "scrolled": true
   },
   "outputs": [],
   "source": [
    "studentmodel.fit(x1_train, y_train,batch_size=100, epochs = 100, validation_data=(x1_test,y_test))"
   ]
  },
  {
   "cell_type": "code",
   "execution_count": null,
   "metadata": {
    "scrolled": true
   },
   "outputs": [],
   "source": [
    "t_out = teacherout\n",
    "model = studentmodel\n",
    "for l in model.layers:\n",
    "        l.trainable = True     \n",
    "    \n",
    "label_test = y_test\n",
    "model.compile(loss=\"binary_crossentropy\", optimizer = opt, metrics=[\"accuracy\"])\n",
    "model.fit(x1_train,t_out ,batch_size=100, epochs = 100, validation_data=(x1_test,y_test))"
   ]
  },
  {
   "cell_type": "code",
   "execution_count": null,
   "metadata": {},
   "outputs": [],
   "source": [
    "y_test"
   ]
  },
  {
   "cell_type": "code",
   "execution_count": null,
   "metadata": {},
   "outputs": [],
   "source": [
    "x1_test_float32 = tf.cast(x1_test, tf.float32)\n",
    "y_score = model.predict((x1_test_float32))"
   ]
  },
  {
   "cell_type": "code",
   "execution_count": null,
   "metadata": {},
   "outputs": [],
   "source": [
    "y_pred=np.around(y_score[:, 1])\n",
    "y_test=y_test[:, 1]\n",
    "\n",
    "from sklearn.metrics import precision_recall_fscore_support\n",
    "from sklearn.metrics import accuracy_score\n",
    "accuracy = accuracy_score(y_test,y_pred)\n",
    "precision, recall, f1 = precision_recall_fscore_support(y_test,y_pred,average='macro')[:-1]\n",
    "print(\"accuracy: \", accuracy)\n",
    "print(\"precision: \",precision)\n",
    "print(\"recall: \",recall)\n",
    "print(\"f1: \",f1)"
   ]
  },
  {
   "cell_type": "code",
   "execution_count": null,
   "metadata": {},
   "outputs": [],
   "source": [
    "import matplotlib.pyplot as plt\n",
    "from sklearn.metrics import auc\n",
    "from sklearn.metrics import confusion_matrix\n",
    "import seaborn as sns\n",
    "def print_confusionMatrix(Y_TestLabels, PredictedLabels):\n",
    "    confusionMatx = confusion_matrix(Y_TestLabels, PredictedLabels)\n",
    "    \n",
    "    precision = confusionMatx/confusionMatx.sum(axis = 0)\n",
    "    \n",
    "    recall = (confusionMatx.T/confusionMatx.sum(axis = 1)).T\n",
    "    \n",
    "    sns.set(font_scale=1.5)\n",
    "    \n",
    "    # confusionMatx = [[1, 2],\n",
    "    #                  [3, 4]]\n",
    "    # confusionMatx.T = [[1, 3],\n",
    "    #                   [2, 4]]\n",
    "    # confusionMatx.sum(axis = 1)  axis=0 corresponds to columns and axis=1 corresponds to rows in two diamensional array\n",
    "    # confusionMatx.sum(axix =1) = [[3, 7]]\n",
    "    # (confusionMatx.T)/(confusionMatx.sum(axis=1)) = [[1/3, 3/7]\n",
    "    #                                                  [2/3, 4/7]]\n",
    "\n",
    "    # (confusionMatx.T)/(confusionMatx.sum(axis=1)).T = [[1/3, 2/3]\n",
    "    #                                                    [3/7, 4/7]]\n",
    "    # sum of row elements = 1\n",
    "    \n",
    "    labels = [\"0\",\"1\"]\n",
    "\n",
    "    \n",
    "    plt.figure(figsize=(18,10),dpi=60)\n",
    "    sns.heatmap(confusionMatx, cmap = \"YlGnBu_r\", annot = True, fmt = \".1f\", xticklabels=labels, yticklabels=labels)\n",
    "    plt.title(\"FDT(RNN) Confusion Matrix\", fontsize = 30)\n",
    "    plt.xlabel('Predicted Class', fontsize = 30)\n",
    "    plt.ylabel('Original Class', fontsize = 30)\n",
    "    plt.tick_params(labelsize = 25)\n",
    "    plt.xticks(rotation = 90)\n",
    "    plt.savefig(\"Pictures/FDT(RNN)-Confusion Matrix.pdf\")\n",
    "    plt.savefig(\"Pictures/FDT(RNN)-Confusion Matrix.png\")\n",
    "    plt.show()\n",
    "\n",
    "    \n",
    "    print(\"-\"*125)\n",
    "    \n",
    "    plt.figure(figsize=(18,10),dpi=60)\n",
    "    sns.heatmap(precision, cmap = \"YlGnBu_r\", annot = True, fmt = \".2f\", xticklabels=labels, yticklabels=labels)\n",
    "    plt.title(\"FDT(RNN) Precision Matrix\", fontsize = 30)\n",
    "    plt.xlabel('Predicted Class', fontsize = 30)\n",
    "    plt.ylabel('Original Class', fontsize = 30)\n",
    "    plt.tick_params(labelsize = 25)\n",
    "    plt.xticks(rotation = 90)\n",
    "    plt.savefig(\"Pictures/FDT(RNN)-Precision Matrix.pdf\")\n",
    "    plt.savefig(\"Pictures/FDT(RNN)-Precision Matrix.png\")\n",
    "    plt.show()\n",
    "    print(\"-\"*125)\n",
    "    \n",
    "    plt.figure(figsize=(18,10),dpi=60)\n",
    "    sns.heatmap(recall, cmap = \"YlGnBu_r\", annot = True, fmt = \".2f\", xticklabels=labels, yticklabels=labels)\n",
    "    plt.title(\"FDT(RNN) Recall Matrix\", fontsize = 30)\n",
    "    plt.xlabel('Predicted Class', fontsize = 30)\n",
    "    plt.ylabel('Original Class', fontsize = 30)\n",
    "    plt.tick_params(labelsize = 25)\n",
    "    plt.xticks(rotation = 90)\n",
    "    plt.savefig(\"Pictures/FDT(RNN)-Recall Matrix.pdf\")\n",
    "    plt.savefig(\"Pictures/FDT(RNN)-Recall Matrix.png\")\n",
    "    plt.show()\n",
    "    sensitivity = confusionMatx[0,0]/(confusionMatx[0,0]+confusionMatx[1,0])\n",
    "    print('Sensitivity : ', sensitivity )\n",
    "\n",
    "    specificity = confusionMatx[1,1]/(confusionMatx[1,1]+confusionMatx[0,1])\n",
    "    print('Specificity : ', specificity)\n",
    "    \n",
    "def plot_roc_curve(fpr, tpr):\n",
    "    plt.figure()\n",
    "    lw = 2\n",
    "    roc_auc = auc(fpr,tpr)\n",
    "    plt.plot(fpr, tpr, color='darkorange',lw=lw, \n",
    "             label='ROC curve (area = %0.2f)' % roc_auc)\n",
    "    plt.plot([0,1], [0,1], color='navy', lw=lw, linestyle='--')\n",
    "    plt.xlim([0, 1.0])\n",
    "    plt.ylim([0, 1.05])\n",
    "    plt.xlabel('False Positive Rate')\n",
    "    plt.ylabel('True Positive Rate')\n",
    "    #plt.title('')\n",
    "    plt.legend(loc=\"lower right\")\n",
    "    plt.show()  "
   ]
  },
  {
   "cell_type": "code",
   "execution_count": null,
   "metadata": {
    "scrolled": true
   },
   "outputs": [],
   "source": [
    "print_confusionMatrix(y_test, y_pred)"
   ]
  },
  {
   "cell_type": "code",
   "execution_count": null,
   "metadata": {},
   "outputs": [],
   "source": [
    "from sklearn.metrics import roc_curve\n",
    "fpr, tpr, _ = roc_curve(y_test, y_score[:,1])\n",
    "plot_roc_curve(fpr, tpr)    "
   ]
  },
  {
   "cell_type": "code",
   "execution_count": null,
   "metadata": {},
   "outputs": [],
   "source": [
    "df1 = pd.DataFrame({'y_test':y_test,'y_score[:,1]': y_score[:,1]})\n",
    "df1.to_csv('Pictures/pre_lab_15.csv',index=False)"
   ]
  },
  {
   "cell_type": "code",
   "execution_count": null,
   "metadata": {},
   "outputs": [],
   "source": []
  },
  {
   "cell_type": "code",
   "execution_count": null,
   "metadata": {},
   "outputs": [],
   "source": []
  }
 ],
 "metadata": {
  "kernelspec": {
   "display_name": "Python 3",
   "language": "python",
   "name": "python3"
  },
  "language_info": {
   "codemirror_mode": {
    "name": "ipython",
    "version": 3
   },
   "file_extension": ".py",
   "mimetype": "text/x-python",
   "name": "python",
   "nbconvert_exporter": "python",
   "pygments_lexer": "ipython3",
   "version": "3.6.10"
  }
 },
 "nbformat": 4,
 "nbformat_minor": 4
}
