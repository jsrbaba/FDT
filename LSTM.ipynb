{
 "cells": [
  {
   "cell_type": "code",
   "execution_count": null,
   "metadata": {},
   "outputs": [],
   "source": [
    "import numpy as np\n",
    "import tensorflow as tf\n",
    "import pandas as pd\n",
    "import seaborn as sns\n",
    "import matplotlib.pyplot as plt\n",
    "from sklearn.manifold import TSNE\n",
    "import warnings\n",
    "from datetime import datetime\n",
    "from sklearn.model_selection import GridSearchCV\n",
    "from sklearn.metrics import confusion_matrix\n",
    "from sklearn.metrics import accuracy_score\n",
    "from sklearn.linear_model import LogisticRegression\n",
    "from sklearn.svm import LinearSVC\n",
    "from sklearn.svm import SVC\n",
    "from sklearn.tree import DecisionTreeClassifier\n",
    "from sklearn.ensemble import RandomForestClassifier\n",
    "from sklearn.ensemble import GradientBoostingClassifier\n",
    "from tensorflow.keras.models import Sequential\n",
    "from tensorflow.keras.layers import LSTM\n",
    "from tensorflow.keras.layers import Dense, Dropout\n",
    "import torch\n",
    "import torch.nn as nn\n",
    "\n",
    "import os\n",
    "os.environ[\"CUDA_VISIBLE_DEVICES\"] = \"0\"\n"
   ]
  },
  {
   "cell_type": "code",
   "execution_count": null,
   "metadata": {},
   "outputs": [],
   "source": [
    "# 加载数据集\n",
    "data = pd.read_csv('data33.csv')\n",
    "clinicalInput = data\n"
   ]
  },
  {
   "cell_type": "markdown",
   "metadata": {},
   "source": [
    "# LSTM"
   ]
  },
  {
   "cell_type": "code",
   "execution_count": null,
   "metadata": {},
   "outputs": [],
   "source": [
    "import pandas as pd\n",
    "import numpy as np\n",
    "from sklearn.preprocessing import LabelEncoder\n",
    "from tensorflow.keras.wrappers.scikit_learn import KerasClassifier\n",
    "from sklearn.model_selection import cross_validate, cross_val_predict\n",
    "from tensorflow.keras.models import Sequential\n",
    "from tensorflow.keras.layers import Activation, Dense, BatchNormalization\n",
    "from tensorflow.keras import layers\n",
    "from tensorflow.keras import backend as K\n"
   ]
  },
  {
   "cell_type": "code",
   "execution_count": null,
   "metadata": {},
   "outputs": [],
   "source": [
    "#determine the number of classes(labels)\n",
    "label_encoder = LabelEncoder().fit(clinicalInput.PATIENT_UPDATE)\n",
    "labels = label_encoder.transform(clinicalInput.PATIENT_UPDATE)\n",
    "classes = list(label_encoder.classes_)\n",
    "\n",
    "#data preparation\n",
    "clinicalInput = clinicalInput.drop([\"PATIENT_UPDATE\"],axis=1)\n",
    "\n",
    "#determine number of features and classes\n",
    "nb_features = 35\n",
    "nb_classes = len(classes)\n",
    "\n",
    "#Standardization of train data\n",
    "from sklearn.preprocessing import StandardScaler\n",
    "scaler = StandardScaler().fit(clinicalInput.values)\n",
    "clinicalInput = scaler.transform(clinicalInput.values)\n",
    "\n",
    "#split train data into validation and train\n",
    "from sklearn.model_selection import train_test_split\n",
    "X_train, X_valid, y_train, y_valid = train_test_split(clinicalInput, labels, test_size=0.3)"
   ]
  },
  {
   "cell_type": "code",
   "execution_count": null,
   "metadata": {},
   "outputs": [],
   "source": [
    "#split train data into validation and train\n",
    "from sklearn.model_selection import train_test_split\n",
    "X_train, X_valid, y_train, y_valid = train_test_split(clinicalInput, labels, test_size=0.3)\n",
    "\n",
    "X_train.shape, X_valid.shape, y_train.shape, y_valid.shape"
   ]
  },
  {
   "cell_type": "code",
   "execution_count": null,
   "metadata": {},
   "outputs": [],
   "source": [
    "#determine the categories of labels\n",
    "from tensorflow.keras.utils import to_categorical\n",
    "y_train = to_categorical(y_train)\n",
    "y_valid = to_categorical(y_valid)\n",
    "\n",
    "#resize the input data\n",
    "X_train = np.array(X_train).reshape(3989,35,1)\n",
    "X_valid = np.array(X_valid).reshape(1710,35,1)"
   ]
  },
  {
   "cell_type": "code",
   "execution_count": null,
   "metadata": {},
   "outputs": [],
   "source": [
    "from tensorflow.keras.models import Sequential\n",
    "from tensorflow.keras.layers import Dense, Activation, Conv1D, Dropout, MaxPooling1D, Flatten, LSTM,BatchNormalization"
   ]
  },
  {
   "cell_type": "code",
   "execution_count": null,
   "metadata": {
    "scrolled": true
   },
   "outputs": [],
   "source": [
    "model = Sequential()\n",
    "model.add(LSTM(256,input_shape=(nb_features,1)))\n",
    "model.add(Activation(\"relu\"))\n",
    "model.add(BatchNormalization())\n",
    "model.add((Flatten()))\n",
    "model.add(Dropout(0.25))\n",
    "model.add(Dense(2048, activation=\"relu\"))\n",
    "model.add(Dense(1024, activation=\"relu\"))\n",
    "model.add(Dense(512, activation=\"relu\"))\n",
    "model.add(Dense(256, activation=\"relu\"))\n",
    "model.add(Dense(128, activation=\"relu\"))\n",
    "model.add(Dense(64, activation=\"relu\"))\n",
    "model.add(Dense(32, activation=\"relu\"))\n",
    "model.add(Dense(16, activation=\"relu\"))\n",
    "model.add(Dense(nb_classes, activation=\"softmax\")) \n",
    "model.summary()\n",
    "    \n",
    "from tensorflow.keras.optimizers import SGD\n",
    "opt = SGD(lr=0.3, decay=0.1, momentum=0.2, nesterov=True)"
   ]
  },
  {
   "cell_type": "code",
   "execution_count": null,
   "metadata": {},
   "outputs": [],
   "source": [
    "model.compile(loss=\"binary_crossentropy\", optimizer = opt, metrics=[\"accuracy\"])"
   ]
  },
  {
   "cell_type": "code",
   "execution_count": null,
   "metadata": {
    "scrolled": true
   },
   "outputs": [],
   "source": [
    "score = model.fit(X_train, y_train,batch_size=100, epochs = 100, validation_data=(X_valid,y_valid))"
   ]
  },
  {
   "cell_type": "code",
   "execution_count": null,
   "metadata": {},
   "outputs": [],
   "source": [
    "#plot training and validation values\n",
    "import matplotlib.pyplot as plt\n",
    "plt.plot(score.history[\"accuracy\"])\n",
    "plt.plot(score.history[\"val_accuracy\"])\n",
    "plt.title(\"Model Accuracies\")\n",
    "plt.ylabel(\"Accuracy\")\n",
    "plt.xlabel(\"Number of Epochs\")\n",
    "plt.legend([\"Train\",\"Test\"], loc=\"upper left\")\n",
    "plt.show()"
   ]
  },
  {
   "cell_type": "code",
   "execution_count": null,
   "metadata": {},
   "outputs": [],
   "source": [
    "plt.plot(score.history[\"loss\"],color=\"g\")\n",
    "plt.plot(score.history[\"val_loss\"],color=\"r\")\n",
    "plt.title(\"Model Losses\")\n",
    "plt.ylabel(\"Loss\")\n",
    "plt.xlabel(\"Number of Epochs\")\n",
    "plt.legend([\"Train\",\"Test\"], loc=\"upper left\")\n",
    "plt.show()"
   ]
  },
  {
   "cell_type": "code",
   "execution_count": null,
   "metadata": {},
   "outputs": [],
   "source": [
    "y_score = model.predict((X_valid))\n",
    "y_pred=np.around(y_score[:, 1])\n",
    "y_test=y_valid[:, 1]\n",
    "\n",
    "from sklearn.metrics import precision_recall_fscore_support\n",
    "from sklearn.metrics import accuracy_score\n",
    "accuracy = accuracy_score(y_test,y_pred)\n",
    "precision, recall, f1 = precision_recall_fscore_support(y_test,y_pred,average='macro')[:-1]\n",
    "print(\"accuracy: \", accuracy)\n",
    "print(\"precision: \",precision)\n",
    "print(\"recall: \",recall)\n",
    "print(\"f1: \",f1)"
   ]
  },
  {
   "cell_type": "code",
   "execution_count": null,
   "metadata": {},
   "outputs": [],
   "source": [
    "import matplotlib.pyplot as plt\n",
    "from sklearn.metrics import auc\n",
    "from sklearn.metrics import confusion_matrix\n",
    "import seaborn as sns\n",
    "def print_confusionMatrix(Y_TestLabels, PredictedLabels):\n",
    "    confusionMatx = confusion_matrix(Y_TestLabels, PredictedLabels)\n",
    "    \n",
    "    precision = confusionMatx/confusionMatx.sum(axis = 0)\n",
    "    \n",
    "    recall = (confusionMatx.T/confusionMatx.sum(axis = 1)).T\n",
    "    \n",
    "    sns.set(font_scale=1.5)\n",
    "    \n",
    "    # confusionMatx = [[1, 2],\n",
    "    #                  [3, 4]]\n",
    "    # confusionMatx.T = [[1, 3],\n",
    "    #                   [2, 4]]\n",
    "    # confusionMatx.sum(axis = 1)  axis=0 corresponds to columns and axis=1 corresponds to rows in two diamensional array\n",
    "    # confusionMatx.sum(axix =1) = [[3, 7]]\n",
    "    # (confusionMatx.T)/(confusionMatx.sum(axis=1)) = [[1/3, 3/7]\n",
    "    #                                                  [2/3, 4/7]]\n",
    "\n",
    "    # (confusionMatx.T)/(confusionMatx.sum(axis=1)).T = [[1/3, 2/3]\n",
    "    #                                                    [3/7, 4/7]]\n",
    "    # sum of row elements = 1\n",
    "    \n",
    "    labels = [\"0\",\"1\"]\n",
    "\n",
    "    \n",
    "    plt.figure(figsize=(18,10),dpi=60)\n",
    "    sns.heatmap(confusionMatx, cmap = \"YlGnBu_r\", annot = True, fmt = \".1f\", xticklabels=labels, yticklabels=labels)\n",
    "    plt.title(\"LSTM Confusion Matrix\", fontsize = 30)\n",
    "    plt.xlabel('Predicted Class', fontsize = 30)\n",
    "    plt.ylabel('Original Class', fontsize = 30)\n",
    "    plt.tick_params(labelsize = 25)\n",
    "    plt.xticks(rotation = 90)\n",
    "    plt.savefig(\"Pictures/LSTM-Confusion Matrix.pdf\")\n",
    "    plt.savefig(\"Pictures/LSTM-Confusion Matrix.png\")\n",
    "    plt.show()\n",
    "\n",
    "    \n",
    "    print(\"-\"*125)\n",
    "    \n",
    "    plt.figure(figsize=(18,10),dpi=60)\n",
    "    sns.heatmap(precision, cmap = \"YlGnBu_r\", annot = True, fmt = \".2f\", xticklabels=labels, yticklabels=labels)\n",
    "    plt.title(\"LSTM Precision Matrix\", fontsize = 30)\n",
    "    plt.xlabel('Predicted Class', fontsize = 30)\n",
    "    plt.ylabel('Original Class', fontsize = 30)\n",
    "    plt.tick_params(labelsize = 25)\n",
    "    plt.xticks(rotation = 90)\n",
    "    plt.savefig(\"Pictures/LSTM-Precision Matrix.pdf\")\n",
    "    plt.savefig(\"Pictures/LSTM-Precision Matrix.png\")\n",
    "    plt.show()\n",
    "    print(\"-\"*125)\n",
    "    \n",
    "    plt.figure(figsize=(18,10),dpi=60)\n",
    "    sns.heatmap(recall, cmap = \"YlGnBu_r\", annot = True, fmt = \".2f\", xticklabels=labels, yticklabels=labels)\n",
    "    plt.title(\"LSTM Recall Matrix\", fontsize = 30)\n",
    "    plt.xlabel('Predicted Class', fontsize = 30)\n",
    "    plt.ylabel('Original Class', fontsize = 30)\n",
    "    plt.tick_params(labelsize = 25)\n",
    "    plt.xticks(rotation = 90)\n",
    "    plt.savefig(\"Pictures/LSTM-Recall Matrix.pdf\")\n",
    "    plt.savefig(\"Pictures/LSTM-Recall Matrix.png\")\n",
    "    plt.show()\n",
    "    sensitivity = confusionMatx[0,0]/(confusionMatx[0,0]+confusionMatx[1,0])\n",
    "    print('Sensitivity : ', sensitivity )\n",
    "\n",
    "    specificity = confusionMatx[1,1]/(confusionMatx[1,1]+confusionMatx[0,1])\n",
    "    print('Specificity : ', specificity)\n",
    "    \n",
    "def plot_roc_curve(fpr, tpr):\n",
    "    plt.figure()\n",
    "    lw = 2\n",
    "    roc_auc = auc(fpr,tpr)\n",
    "    plt.plot(fpr, tpr, color='darkorange',lw=lw, \n",
    "             label='ROC curve (area = %0.2f)' % roc_auc)\n",
    "    plt.plot([0,1], [0,1], color='navy', lw=lw, linestyle='--')\n",
    "    plt.xlim([0, 1.0])\n",
    "    plt.ylim([0, 1.05])\n",
    "    plt.xlabel('False Positive Rate')\n",
    "    plt.ylabel('True Positive Rate')\n",
    "    #plt.title('')\n",
    "    plt.legend(loc=\"lower right\")\n",
    "    plt.show()  "
   ]
  },
  {
   "cell_type": "code",
   "execution_count": null,
   "metadata": {},
   "outputs": [],
   "source": [
    "print_confusionMatrix(y_test, y_pred)"
   ]
  },
  {
   "cell_type": "code",
   "execution_count": null,
   "metadata": {},
   "outputs": [],
   "source": [
    "from sklearn.metrics import roc_curve\n",
    "fpr, tpr, _ = roc_curve(y_test, y_score[:,1])\n",
    "plot_roc_curve(fpr, tpr)    "
   ]
  },
  {
   "cell_type": "code",
   "execution_count": null,
   "metadata": {},
   "outputs": [],
   "source": [
    "df1 = pd.DataFrame({'y_test':y_test,'y_score[:,1]': y_score[:,1]})\n",
    "df1.to_csv('Pictures/pre_lab_4.csv',index=False)"
   ]
  }
 ],
 "metadata": {
  "kernelspec": {
   "display_name": "Python 3",
   "language": "python",
   "name": "python3"
  },
  "language_info": {
   "codemirror_mode": {
    "name": "ipython",
    "version": 3
   },
   "file_extension": ".py",
   "mimetype": "text/x-python",
   "name": "python",
   "nbconvert_exporter": "python",
   "pygments_lexer": "ipython3",
   "version": "3.6.10"
  }
 },
 "nbformat": 4,
 "nbformat_minor": 4
}
